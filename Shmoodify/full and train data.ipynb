{
 "cells": [
  {
   "cell_type": "code",
   "execution_count": 85,
   "metadata": {},
   "outputs": [],
   "source": [
    "import pandas as pd"
   ]
  },
  {
   "cell_type": "code",
   "execution_count": 125,
   "metadata": {},
   "outputs": [
    {
     "data": {
      "text/html": [
       "<div>\n",
       "<style scoped>\n",
       "    .dataframe tbody tr th:only-of-type {\n",
       "        vertical-align: middle;\n",
       "    }\n",
       "\n",
       "    .dataframe tbody tr th {\n",
       "        vertical-align: top;\n",
       "    }\n",
       "\n",
       "    .dataframe thead th {\n",
       "        text-align: right;\n",
       "    }\n",
       "</style>\n",
       "<table border=\"1\" class=\"dataframe\">\n",
       "  <thead>\n",
       "    <tr style=\"text-align: right;\">\n",
       "      <th></th>\n",
       "      <th>.</th>\n",
       "      <th>Song</th>\n",
       "      <th>Artist</th>\n",
       "      <th>Year</th>\n",
       "      <th>Lyrics</th>\n",
       "      <th>Source</th>\n",
       "      <th>Schmood</th>\n",
       "    </tr>\n",
       "  </thead>\n",
       "  <tbody>\n",
       "    <tr>\n",
       "      <th>0</th>\n",
       "      <td>1</td>\n",
       "      <td>wooly bully</td>\n",
       "      <td>sam the sham and the pharaohs</td>\n",
       "      <td>1965</td>\n",
       "      <td>sam the sham miscellaneous wooly bully wooly b...</td>\n",
       "      <td>3.0</td>\n",
       "      <td>saucy</td>\n",
       "    </tr>\n",
       "    <tr>\n",
       "      <th>1</th>\n",
       "      <td>2</td>\n",
       "      <td>i cant help myself sugar pie honey bunch</td>\n",
       "      <td>four tops</td>\n",
       "      <td>1965</td>\n",
       "      <td>sugar pie honey bunch you know that i love you...</td>\n",
       "      <td>1.0</td>\n",
       "      <td>love</td>\n",
       "    </tr>\n",
       "    <tr>\n",
       "      <th>2</th>\n",
       "      <td>4</td>\n",
       "      <td>you were on my mind</td>\n",
       "      <td>we five</td>\n",
       "      <td>1965</td>\n",
       "      <td>when i woke up this morning you were on my min...</td>\n",
       "      <td>1.0</td>\n",
       "      <td>sad</td>\n",
       "    </tr>\n",
       "    <tr>\n",
       "      <th>3</th>\n",
       "      <td>5</td>\n",
       "      <td>youve lost that lovin feelin</td>\n",
       "      <td>the righteous brothers</td>\n",
       "      <td>1965</td>\n",
       "      <td>you never close your eyes anymore when i kiss ...</td>\n",
       "      <td>1.0</td>\n",
       "      <td>love</td>\n",
       "    </tr>\n",
       "    <tr>\n",
       "      <th>4</th>\n",
       "      <td>6</td>\n",
       "      <td>downtown</td>\n",
       "      <td>petula clark</td>\n",
       "      <td>1965</td>\n",
       "      <td>when youre alone and life is making you lonely...</td>\n",
       "      <td>1.0</td>\n",
       "      <td>sad</td>\n",
       "    </tr>\n",
       "  </tbody>\n",
       "</table>\n",
       "</div>"
      ],
      "text/plain": [
       "   .                                      Song                         Artist  \\\n",
       "0  1                               wooly bully  sam the sham and the pharaohs   \n",
       "1  2  i cant help myself sugar pie honey bunch                      four tops   \n",
       "2  4                       you were on my mind                        we five   \n",
       "3  5              youve lost that lovin feelin         the righteous brothers   \n",
       "4  6                                  downtown                   petula clark   \n",
       "\n",
       "   Year                                             Lyrics  Source Schmood  \n",
       "0  1965  sam the sham miscellaneous wooly bully wooly b...     3.0   saucy  \n",
       "1  1965  sugar pie honey bunch you know that i love you...     1.0    love  \n",
       "2  1965  when i woke up this morning you were on my min...     1.0     sad  \n",
       "3  1965  you never close your eyes anymore when i kiss ...     1.0    love  \n",
       "4  1965  when youre alone and life is making you lonely...     1.0     sad  "
      ]
     },
     "execution_count": 125,
     "metadata": {},
     "output_type": "execute_result"
    }
   ],
   "source": [
    "csv_file = \"Shmoodify (1).csv\"\n",
    "all_songs_df = pd.read_csv(csv_file, encoding=\"latin-1\")\n",
    "all_songs_df.head()"
   ]
  },
  {
   "cell_type": "code",
   "execution_count": 126,
   "metadata": {},
   "outputs": [
    {
     "data": {
      "text/html": [
       "<div>\n",
       "<style scoped>\n",
       "    .dataframe tbody tr th:only-of-type {\n",
       "        vertical-align: middle;\n",
       "    }\n",
       "\n",
       "    .dataframe tbody tr th {\n",
       "        vertical-align: top;\n",
       "    }\n",
       "\n",
       "    .dataframe thead th {\n",
       "        text-align: right;\n",
       "    }\n",
       "</style>\n",
       "<table border=\"1\" class=\"dataframe\">\n",
       "  <thead>\n",
       "    <tr style=\"text-align: right;\">\n",
       "      <th></th>\n",
       "      <th>.</th>\n",
       "      <th>Song</th>\n",
       "      <th>Artist</th>\n",
       "      <th>Year</th>\n",
       "      <th>Lyrics</th>\n",
       "      <th>Source</th>\n",
       "      <th>Schmood</th>\n",
       "    </tr>\n",
       "  </thead>\n",
       "  <tbody>\n",
       "    <tr>\n",
       "      <th>0</th>\n",
       "      <td>1</td>\n",
       "      <td>wooly bully</td>\n",
       "      <td>sam the sham and the pharaohs</td>\n",
       "      <td>1965</td>\n",
       "      <td>sam the sham miscellaneous wooly bully wooly b...</td>\n",
       "      <td>3.0</td>\n",
       "      <td>saucy</td>\n",
       "    </tr>\n",
       "    <tr>\n",
       "      <th>1</th>\n",
       "      <td>2</td>\n",
       "      <td>i cant help myself sugar pie honey bunch</td>\n",
       "      <td>four tops</td>\n",
       "      <td>1965</td>\n",
       "      <td>sugar pie honey bunch you know that i love you...</td>\n",
       "      <td>1.0</td>\n",
       "      <td>love</td>\n",
       "    </tr>\n",
       "    <tr>\n",
       "      <th>2</th>\n",
       "      <td>4</td>\n",
       "      <td>you were on my mind</td>\n",
       "      <td>we five</td>\n",
       "      <td>1965</td>\n",
       "      <td>when i woke up this morning you were on my min...</td>\n",
       "      <td>1.0</td>\n",
       "      <td>sad</td>\n",
       "    </tr>\n",
       "    <tr>\n",
       "      <th>3</th>\n",
       "      <td>5</td>\n",
       "      <td>youve lost that lovin feelin</td>\n",
       "      <td>the righteous brothers</td>\n",
       "      <td>1965</td>\n",
       "      <td>you never close your eyes anymore when i kiss ...</td>\n",
       "      <td>1.0</td>\n",
       "      <td>love</td>\n",
       "    </tr>\n",
       "    <tr>\n",
       "      <th>4</th>\n",
       "      <td>6</td>\n",
       "      <td>downtown</td>\n",
       "      <td>petula clark</td>\n",
       "      <td>1965</td>\n",
       "      <td>when youre alone and life is making you lonely...</td>\n",
       "      <td>1.0</td>\n",
       "      <td>sad</td>\n",
       "    </tr>\n",
       "  </tbody>\n",
       "</table>\n",
       "</div>"
      ],
      "text/plain": [
       "   .                                      Song                         Artist  \\\n",
       "0  1                               wooly bully  sam the sham and the pharaohs   \n",
       "1  2  i cant help myself sugar pie honey bunch                      four tops   \n",
       "2  4                       you were on my mind                        we five   \n",
       "3  5              youve lost that lovin feelin         the righteous brothers   \n",
       "4  6                                  downtown                   petula clark   \n",
       "\n",
       "   Year                                             Lyrics  Source Schmood  \n",
       "0  1965  sam the sham miscellaneous wooly bully wooly b...     3.0   saucy  \n",
       "1  1965  sugar pie honey bunch you know that i love you...     1.0    love  \n",
       "2  1965  when i woke up this morning you were on my min...     1.0     sad  \n",
       "3  1965  you never close your eyes anymore when i kiss ...     1.0    love  \n",
       "4  1965  when youre alone and life is making you lonely...     1.0     sad  "
      ]
     },
     "execution_count": 126,
     "metadata": {},
     "output_type": "execute_result"
    }
   ],
   "source": [
    "#keep training dataset\n",
    "train_songs = all_songs_df.dropna()\n",
    "train_songs.head()"
   ]
  },
  {
   "cell_type": "code",
   "execution_count": 128,
   "metadata": {},
   "outputs": [
    {
     "name": "stdout",
     "output_type": "stream",
     "text": [
      "<class 'pandas.core.frame.DataFrame'>\n",
      "Int64Index: 428 entries, 0 to 5092\n",
      "Data columns (total 8 columns):\n",
      ".          428 non-null int64\n",
      "Song       428 non-null object\n",
      "Artist     428 non-null object\n",
      "Year       428 non-null int64\n",
      "Lyrics     428 non-null object\n",
      "Source     428 non-null float64\n",
      "Schmood    428 non-null object\n",
      "Decade     428 non-null object\n",
      "dtypes: float64(1), int64(2), object(5)\n",
      "memory usage: 30.1+ KB\n"
     ]
    }
   ],
   "source": [
    "#add decade classification to dataframe\n",
    "train_songs.loc[(train_songs.Year< 1970) & (train_songs.Year> 1964), 'Decade'] = '1960' \n",
    "train_songs.loc[(train_songs.Year< 1980) & (train_songs.Year> 1969), 'Decade'] = '1970'\n",
    "train_songs.loc[(train_songs.Year< 1990) & (train_songs.Year> 1979), 'Decade'] = '1980'\n",
    "train_songs.loc[(train_songs.Year< 2000) & (train_songs.Year> 1989), 'Decade'] = '1990'\n",
    "train_songs.loc[(train_songs.Year< 2010) & (train_songs.Year> 1999), 'Decade'] = '2000'\n",
    "train_songs.loc[(train_songs.Year< 2020) & (train_songs.Year> 2009), 'Decade'] = '2010'\n",
    "train_songs.info()"
   ]
  },
  {
   "cell_type": "code",
   "execution_count": 129,
   "metadata": {},
   "outputs": [
    {
     "data": {
      "text/html": [
       "<div>\n",
       "<style scoped>\n",
       "    .dataframe tbody tr th:only-of-type {\n",
       "        vertical-align: middle;\n",
       "    }\n",
       "\n",
       "    .dataframe tbody tr th {\n",
       "        vertical-align: top;\n",
       "    }\n",
       "\n",
       "    .dataframe thead th {\n",
       "        text-align: right;\n",
       "    }\n",
       "</style>\n",
       "<table border=\"1\" class=\"dataframe\">\n",
       "  <thead>\n",
       "    <tr style=\"text-align: right;\">\n",
       "      <th></th>\n",
       "      <th>Lyrics</th>\n",
       "      <th>Schmood</th>\n",
       "      <th>Decade</th>\n",
       "    </tr>\n",
       "  </thead>\n",
       "  <tbody>\n",
       "    <tr>\n",
       "      <th>0</th>\n",
       "      <td>sam the sham miscellaneous wooly bully wooly b...</td>\n",
       "      <td>saucy</td>\n",
       "      <td>1960</td>\n",
       "    </tr>\n",
       "    <tr>\n",
       "      <th>1</th>\n",
       "      <td>sugar pie honey bunch you know that i love you...</td>\n",
       "      <td>love</td>\n",
       "      <td>1960</td>\n",
       "    </tr>\n",
       "    <tr>\n",
       "      <th>2</th>\n",
       "      <td>when i woke up this morning you were on my min...</td>\n",
       "      <td>sad</td>\n",
       "      <td>1960</td>\n",
       "    </tr>\n",
       "    <tr>\n",
       "      <th>3</th>\n",
       "      <td>you never close your eyes anymore when i kiss ...</td>\n",
       "      <td>love</td>\n",
       "      <td>1960</td>\n",
       "    </tr>\n",
       "    <tr>\n",
       "      <th>4</th>\n",
       "      <td>when youre alone and life is making you lonely...</td>\n",
       "      <td>sad</td>\n",
       "      <td>1960</td>\n",
       "    </tr>\n",
       "  </tbody>\n",
       "</table>\n",
       "</div>"
      ],
      "text/plain": [
       "                                              Lyrics Schmood Decade\n",
       "0  sam the sham miscellaneous wooly bully wooly b...   saucy   1960\n",
       "1  sugar pie honey bunch you know that i love you...    love   1960\n",
       "2  when i woke up this morning you were on my min...     sad   1960\n",
       "3  you never close your eyes anymore when i kiss ...    love   1960\n",
       "4  when youre alone and life is making you lonely...     sad   1960"
      ]
     },
     "execution_count": 129,
     "metadata": {},
     "output_type": "execute_result"
    }
   ],
   "source": [
    "train_df = train_songs.filter(['Lyrics','Schmood', 'Decade'])\n",
    "train_df = train_df.reset_index(drop=True)\n",
    "train_df.head()"
   ]
  },
  {
   "cell_type": "code",
   "execution_count": 130,
   "metadata": {},
   "outputs": [
    {
     "data": {
      "text/html": [
       "<div>\n",
       "<style scoped>\n",
       "    .dataframe tbody tr th:only-of-type {\n",
       "        vertical-align: middle;\n",
       "    }\n",
       "\n",
       "    .dataframe tbody tr th {\n",
       "        vertical-align: top;\n",
       "    }\n",
       "\n",
       "    .dataframe thead th {\n",
       "        text-align: right;\n",
       "    }\n",
       "</style>\n",
       "<table border=\"1\" class=\"dataframe\">\n",
       "  <thead>\n",
       "    <tr style=\"text-align: right;\">\n",
       "      <th></th>\n",
       "      <th>Lyrics</th>\n",
       "      <th>Schmood</th>\n",
       "      <th>Decade</th>\n",
       "      <th>Clean Lyrics</th>\n",
       "    </tr>\n",
       "  </thead>\n",
       "  <tbody>\n",
       "    <tr>\n",
       "      <th>0</th>\n",
       "      <td>sam the sham miscellaneous wooly bully wooly b...</td>\n",
       "      <td>saucy</td>\n",
       "      <td>1960</td>\n",
       "      <td>sam sham miscellaneous wooly bully wooly bully...</td>\n",
       "    </tr>\n",
       "    <tr>\n",
       "      <th>1</th>\n",
       "      <td>sugar pie honey bunch you know that i love you...</td>\n",
       "      <td>love</td>\n",
       "      <td>1960</td>\n",
       "      <td>sugar pie honey bunch know love cant help love...</td>\n",
       "    </tr>\n",
       "    <tr>\n",
       "      <th>2</th>\n",
       "      <td>when i woke up this morning you were on my min...</td>\n",
       "      <td>sad</td>\n",
       "      <td>1960</td>\n",
       "      <td>woke morning mind mind got troubles whoaoh got...</td>\n",
       "    </tr>\n",
       "    <tr>\n",
       "      <th>3</th>\n",
       "      <td>you never close your eyes anymore when i kiss ...</td>\n",
       "      <td>love</td>\n",
       "      <td>1960</td>\n",
       "      <td>never close eyes anymore kiss lips theres tend...</td>\n",
       "    </tr>\n",
       "    <tr>\n",
       "      <th>4</th>\n",
       "      <td>when youre alone and life is making you lonely...</td>\n",
       "      <td>sad</td>\n",
       "      <td>1960</td>\n",
       "      <td>youre alone life making lonely always go downt...</td>\n",
       "    </tr>\n",
       "  </tbody>\n",
       "</table>\n",
       "</div>"
      ],
      "text/plain": [
       "                                              Lyrics Schmood Decade  \\\n",
       "0  sam the sham miscellaneous wooly bully wooly b...   saucy   1960   \n",
       "1  sugar pie honey bunch you know that i love you...    love   1960   \n",
       "2  when i woke up this morning you were on my min...     sad   1960   \n",
       "3  you never close your eyes anymore when i kiss ...    love   1960   \n",
       "4  when youre alone and life is making you lonely...     sad   1960   \n",
       "\n",
       "                                        Clean Lyrics  \n",
       "0  sam sham miscellaneous wooly bully wooly bully...  \n",
       "1  sugar pie honey bunch know love cant help love...  \n",
       "2  woke morning mind mind got troubles whoaoh got...  \n",
       "3  never close eyes anymore kiss lips theres tend...  \n",
       "4  youre alone life making lonely always go downt...  "
      ]
     },
     "execution_count": 130,
     "metadata": {},
     "output_type": "execute_result"
    }
   ],
   "source": [
    "import nltk\n",
    "from nltk.tokenize import word_tokenize\n",
    "from nltk.corpus import stopwords\n",
    "\n",
    "lyrics_clean = []\n",
    "\n",
    "for index, row in train_df.iterrows():\n",
    "    song = row['Lyrics']\n",
    "    tokens = word_tokenize(song)\n",
    "    stop_words = set(stopwords.words('english'))\n",
    "    tokens = [w for w in tokens if not w in stop_words]\n",
    "    str = \" \"\n",
    "    tokens = str.join(tokens)\n",
    "    lyrics_clean.append(tokens)\n",
    "lyrics_clean\n",
    "train_df['Clean Lyrics'] = lyrics_clean\n",
    "train_df.head()"
   ]
  },
  {
   "cell_type": "code",
   "execution_count": 155,
   "metadata": {},
   "outputs": [],
   "source": [
    "X_train = train_df.loc[:100, 'Clean Lyrics'].values\n",
    "y_train = train_df.loc[:100, 'Schmood'].values\n",
    "X_test = train_df.loc[101:, 'Clean Lyrics'].values\n",
    "y_test = train_df.loc[101:, 'Schmood'].values"
   ]
  },
  {
   "cell_type": "code",
   "execution_count": 156,
   "metadata": {},
   "outputs": [],
   "source": [
    "#X_train = train_df.loc[:124, 'Clean Lyrics'].values\n",
    "#y_train = train_df.loc[:124, 'Decade'].values\n",
    "#X_test = train_df.loc[125:, 'Clean Lyrics'].values\n",
    "#y_test = train_df.loc[125:, 'Decade'].values"
   ]
  },
  {
   "cell_type": "code",
   "execution_count": 157,
   "metadata": {},
   "outputs": [
    {
     "name": "stdout",
     "output_type": "stream",
     "text": [
      "(101, 1958) (327, 1958)\n"
     ]
    }
   ],
   "source": [
    "from sklearn.feature_extraction.text import TfidfTransformer\n",
    "from sklearn.feature_extraction.text import TfidfVectorizer\n",
    "vectorizer = TfidfVectorizer()\n",
    "train_vectors = vectorizer.fit_transform(X_train)\n",
    "test_vectors = vectorizer.transform(X_test)\n",
    "print(train_vectors.shape, test_vectors.shape)"
   ]
  },
  {
   "cell_type": "code",
   "execution_count": 158,
   "metadata": {},
   "outputs": [],
   "source": [
    "from sklearn.naive_bayes import MultinomialNB\n",
    "clf = MultinomialNB().fit(train_vectors, y_train)"
   ]
  },
  {
   "cell_type": "code",
   "execution_count": 159,
   "metadata": {},
   "outputs": [
    {
     "name": "stdout",
     "output_type": "stream",
     "text": [
      "0.20795107033639143\n"
     ]
    }
   ],
   "source": [
    "from  sklearn.metrics  import accuracy_score\n",
    "predicted = clf.predict(test_vectors)\n",
    "print(accuracy_score(y_test,predicted))"
   ]
  },
  {
   "cell_type": "code",
   "execution_count": null,
   "metadata": {},
   "outputs": [],
   "source": []
  }
 ],
 "metadata": {
  "kernelspec": {
   "display_name": "Python 3",
   "language": "python",
   "name": "python3"
  },
  "language_info": {
   "codemirror_mode": {
    "name": "ipython",
    "version": 3
   },
   "file_extension": ".py",
   "mimetype": "text/x-python",
   "name": "python",
   "nbconvert_exporter": "python",
   "pygments_lexer": "ipython3",
   "version": "3.7.3"
  }
 },
 "nbformat": 4,
 "nbformat_minor": 2
}
